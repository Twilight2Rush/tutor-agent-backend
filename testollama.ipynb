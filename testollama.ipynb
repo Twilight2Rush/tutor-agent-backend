{
 "cells": [
  {
   "cell_type": "code",
   "execution_count": 11,
   "id": "698fbe2f",
   "metadata": {},
   "outputs": [],
   "source": [
    "import requests\n",
    "\n",
    "# 生成文本\n",
    "response = requests.post(\n",
    "    \"http://localhost:11434/api/generate\",\n",
    "    json={\n",
    "        \"model\": \"deepseek-r1:8b\",\n",
    "        \"prompt\": \"你好，你能帮我写一段代码吗？\",\n",
    "        \"stream\": False\n",
    "    }\n",
    ")"
   ]
  },
  {
   "cell_type": "code",
   "execution_count": 12,
   "id": "0fb124f4",
   "metadata": {},
   "outputs": [],
   "source": [
    "res = response.json()"
   ]
  },
  {
   "cell_type": "code",
   "execution_count": 13,
   "id": "61cfc40e",
   "metadata": {},
   "outputs": [
    {
     "data": {
      "text/plain": [
       "'<think>\\n嗯，用户问了一个非常开放的问题“能帮我写一段代码吗”，没有具体说明需求。这种模糊请求其实挺常见的，可能ta自己也不太确定要什么，或者想先试探我的能力。\\n\\n从语气来看，用户可能是编程新手，因为资深开发者通常会直接提出明确的技术问题。不过也有可能是老手在测试我的响应速度？毕竟“写一段代码”这么笼统的要求反而显得有点随意。\\n\\n我需要引导ta提供更多信息才能有效帮助。但直接问技术栈可能会吓到新人，所以应该用更友好的方式列举常见场景作为例子。比如先假设ta要的是基础的Hello World，再逐步深入其他可能性。\\n\\n用户可能正在写作业或者搞个小项目遇到卡壳了？看这么简短的问题，说不定是急着要用代码的样子……不过也有可能只是随便问问。保险起见，我要给出足够多的可能性覆盖不同场景，同时保持回复结构化让ta容易选择。\\n\\n啊，注意到中文提问但没说明语言类型。应该优先默认最常见的Python或JavaScript，再补充其他主流选项。这样既照顾到多数用户需求，也能包容少数使用特殊语言的开发者。\\n\\n最后那个笑脸表情是不是太随意了？不过新手可能需要这种轻松感来降低交流压力吧。保持专业的同时带点亲和力比较好。\\n</think>\\n当然可以！请告诉我你需要什么类型的代码（例如：Python、JavaScript等），以及具体的功能或需求，我会为你提供完整的示例代码。\\n\\n### 通用回复模板：\\n```markdown\\n**功能描述：**\\n[简要说明你的需求]\\n\\n**实现思路：**\\n1. [关键步骤]\\n2. [关键步骤]...\\n\\n**代码示例（以 Python 为例）：**\\n\\n```python\\n# 具体代码实现...\\n```\\n\\n**扩展建议：**\\n如果你需要其他语言的版本、更详细的解释或添加额外功能，请告诉我！ 😊\\n\\n请提供更多信息，我会为你定制解决方案。'"
      ]
     },
     "execution_count": 13,
     "metadata": {},
     "output_type": "execute_result"
    }
   ],
   "source": [
    "res['response']"
   ]
  }
 ],
 "metadata": {
  "kernelspec": {
   "display_name": "flask",
   "language": "python",
   "name": "python3"
  },
  "language_info": {
   "codemirror_mode": {
    "name": "ipython",
    "version": 3
   },
   "file_extension": ".py",
   "mimetype": "text/x-python",
   "name": "python",
   "nbconvert_exporter": "python",
   "pygments_lexer": "ipython3",
   "version": "3.11.11"
  }
 },
 "nbformat": 4,
 "nbformat_minor": 5
}
