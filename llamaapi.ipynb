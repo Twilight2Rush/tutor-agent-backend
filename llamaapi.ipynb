{
 "cells": [
  {
   "cell_type": "code",
   "execution_count": 6,
   "metadata": {},
   "outputs": [],
   "source": [
    "from openai import OpenAI\n",
    "import json"
   ]
  },
  {
   "cell_type": "code",
   "execution_count": 7,
   "metadata": {},
   "outputs": [],
   "source": [
    "client = OpenAI(\n",
    "    # polyu icml api key\n",
    "    api_key=\"gpustack_dca95d48986a6f0c_b597d9343202a28c4d57a14026631130\",\n",
    "    # 这里将官方的接口访问地址，替换成aihubmix的入口地址\n",
    "    base_url=\"http://159.223.84.150:9000/v1\"\n",
    ")"
   ]
  },
  {
   "cell_type": "code",
   "execution_count": null,
   "metadata": {},
   "outputs": [],
   "source": []
  },
  {
   "cell_type": "code",
   "execution_count": 8,
   "metadata": {},
   "outputs": [
    {
     "name": "stdout",
     "output_type": "stream",
     "text": [
      "Hong Kong! One of the most fascinating and vibrant cities in the world. Located on the southeastern coast of China, Hong Kong is a Special Administrative Region (SAR) that boasts a unique blend of East and West, traditional and modern.\n",
      "\n",
      "**Geography and Climate**\n",
      "\n",
      "Hong Kong is situated on the Pearl River Delta, comprising a total area of approximately 1,104 square kilometers (426 square miles). The city is surrounded by the South China Sea to the south and the Guangdong Province of China to the north. Hong Kong's terrain is characterized by mountains, valleys, and coastlines, with the famous Victoria Peak being the highest point at 552 meters (1,811 feet) above sea level.\n",
      "\n",
      "The city has a subtropical monsoon climate, with hot and humid summers (June to August) and mild winters (December to February). The best time to visit Hong Kong is during the spring (March to May) and autumn (September to November), when the weather is pleasant and comfortable.\n",
      "\n",
      "**History and Culture**\n",
      "\n",
      "Hong Kong's rich history dates back to the Stone Age, with archaeological evidence showing human settlement as far back as 6,000 years ago. The city's strategic location made it an important trading hub, and it was eventually colonized by the British in 1842. During the British rule, Hong Kong developed into a major financial center, earning the nickname \"Pearl of the Orient.\"\n",
      "\n",
      "In 1997, Hong Kong returned to China and became a Special Administrative Region, enjoying a high degree of autonomy and maintaining its own government, economy, and legal system. Today, Hong Kong is a melting pot of cultures, with a blend of Cantonese, British, and international influences.\n",
      "\n",
      "**Language and Cuisine**\n",
      "\n",
      "The official languages of Hong Kong are Chinese (Cantonese) and English, with Mandarin Chinese becoming increasingly popular. The city is also a food lover's paradise, with a diverse range of Cantonese, Sichuan, and international cuisines. Be sure to try some of the local specialties, such as dim sum, roast goose, and egg tarts!\n",
      "\n",
      "**Economy and Infrastructure**\n",
      "\n",
      "Hong Kong is one of the world's leading financial centers, with a highly developed economy and a major hub for international trade and finance. The city is home to the Hong Kong Stock Exchange, one of the largest stock exchanges in the world.\n",
      "\n",
      "Hong Kong's infrastructure is modern and efficient, with a comprehensive network of roads, railways, and airports. The city's transportation system is one of the most advanced in the world, with a highly efficient MTR (Mass Transit Railway) system that connects most areas of the city.\n",
      "\n",
      "**Tourist Attractions**\n",
      "\n",
      "Hong Kong is a shopper's paradise, with iconic shopping districts like Causeway Bay, Mong Kok, and Tsim Sha Tsui. Some of the must-visit attractions include:\n",
      "\n",
      "1. Victoria Peak: The highest point in Hong Kong, offering breathtaking views of the city skyline.\n",
      "2. Tsim Sha Tsui Promenade: A scenic waterfront area with stunning views of Victoria Harbour.\n",
      "3. Wong Tai Sin Temple: A famous Taoist temple known for its ornate architecture and fortune-telling.\n",
      "4. Ocean Park: A popular theme park with thrill rides, animal exhibits, and stunning ocean views.\n",
      "5. Hong Kong Disneyland: A magical theme park with Disney, Marvel, and Star Wars attractions.\n",
      "6. Lantau Island: A tranquil island with beautiful beaches, hiking trails, and the Big Buddha statue.\n",
      "\n",
      "**Insider Tips**\n",
      "\n",
      "1. Get an Octopus card: A prepaid card that can be used for public transportation, shopping, and dining.\n",
      "2. Learn some Cantonese phrases: Show respect for the local culture and people.\n",
      "3. Try the street food: Delicious and affordable options like skewers, dumplings, and egg waffles.\n",
      "4. Explore the neighborhoods: From trendy areas like Wan Chai to historic districts like Central.\n",
      "5. Take a day trip: Visit nearby Macau, Shenzhen, or the scenic islands of Hong Kong.\n",
      "\n",
      "Hong Kong is a city that truly has something for everyone. Whether you're a foodie, a shopaholic, or an adventure-seeker, this incredible city will leave you with unforgettable memories.\n"
     ]
    }
   ],
   "source": [
    "\n",
    "response = client.chat.completions.create(\n",
    "    seed=-1,\n",
    "    temperature=0.80,\n",
    "    top_p=0.95,\n",
    "    max_tokens=1024,\n",
    "    model=\"llama3-70b-instruct-fp16\",\n",
    "    messages=[\n",
    "            {\n",
    "            \"role\": \"system\",\n",
    "            \"content\": \"Assistant is a large language model trained by OpenAI.\",\n",
    "        },\n",
    "        {\"role\": \"user\", \"content\": \"introduce Hong Kong for me\"},\n",
    "        ],\n",
    ")\n",
    "print(response.choices[0].message.content)\n",
    "\n",
    "# print(response)\n",
    "# print(response.model_dump_json(indent=2))\n",
    "# print(response.choices[0].message.function_call)"
   ]
  },
  {
   "cell_type": "code",
   "execution_count": 9,
   "metadata": {},
   "outputs": [
    {
     "ename": "NameError",
     "evalue": "name 'llama' is not defined",
     "output_type": "error",
     "traceback": [
      "\u001b[0;31m---------------------------------------------------------------------------\u001b[0m",
      "\u001b[0;31mNameError\u001b[0m                                 Traceback (most recent call last)",
      "Cell \u001b[0;32mIn[9], line 2\u001b[0m\n\u001b[1;32m      1\u001b[0m \u001b[38;5;66;03m# Execute the Request\u001b[39;00m\n\u001b[0;32m----> 2\u001b[0m response \u001b[38;5;241m=\u001b[39m \u001b[43mllama\u001b[49m\u001b[38;5;241m.\u001b[39mrun(api_request_json)\n\u001b[1;32m      3\u001b[0m \u001b[38;5;66;03m# Save the answer\u001b[39;00m\n\u001b[1;32m      4\u001b[0m output \u001b[38;5;241m=\u001b[39m response\u001b[38;5;241m.\u001b[39mjson()[\u001b[38;5;124m'\u001b[39m\u001b[38;5;124mchoices\u001b[39m\u001b[38;5;124m'\u001b[39m][\u001b[38;5;241m0\u001b[39m][\u001b[38;5;124m'\u001b[39m\u001b[38;5;124mmessage\u001b[39m\u001b[38;5;124m'\u001b[39m]\n",
      "\u001b[0;31mNameError\u001b[0m: name 'llama' is not defined"
     ]
    }
   ],
   "source": [
    "# Execute the Request\n",
    "response = llama.run(api_request_json)\n",
    "# Save the answer\n",
    "output = response.json()['choices'][0]['message']"
   ]
  },
  {
   "cell_type": "code",
   "execution_count": null,
   "metadata": {},
   "outputs": [
    {
     "data": {
      "text/plain": [
       "{'content': \"I'm not able to access real-time flight information or provide specific flight schedules. However, I can suggest some options for you to find the next available flight from Amsterdam to New York:\\n\\n1. Check with airlines: You can visit the websites of airlines that operate flights from Amsterdam to New York, such as KLM, Delta, or American Airlines, to check their flight schedules and book a ticket.\\n2. Use a flight search engine: Websites like Google Flights, Skyscanner, or Kayak allow you to search for flights from Amsterdam to New York and compare prices and schedules across multiple airlines.\\n3. Contact a travel agency: If you prefer to book through a travel agency, you can contact them to inquire about available flights and book a ticket.\\n4. Check airport websites: You can also check the websites of Amsterdam Airport Schiphol (AMS) or one of New York's airports (JFK, LGA, or EWR) for flight information and schedules.\\n\\nPlease note that flight schedules and availability can change frequently, so it's always a good idea to verify the information before booking a ticket.\",\n",
       " 'refusal': None,\n",
       " 'role': 'assistant',\n",
       " 'audio': None,\n",
       " 'function_call': None,\n",
       " 'tool_calls': None}"
      ]
     },
     "execution_count": 7,
     "metadata": {},
     "output_type": "execute_result"
    }
   ],
   "source": [
    "output"
   ]
  }
 ],
 "metadata": {
  "kernelspec": {
   "display_name": "flask",
   "language": "python",
   "name": "python3"
  },
  "language_info": {
   "codemirror_mode": {
    "name": "ipython",
    "version": 3
   },
   "file_extension": ".py",
   "mimetype": "text/x-python",
   "name": "python",
   "nbconvert_exporter": "python",
   "pygments_lexer": "ipython3",
   "version": "3.11.11"
  }
 },
 "nbformat": 4,
 "nbformat_minor": 2
}
