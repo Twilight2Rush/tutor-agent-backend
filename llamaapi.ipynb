{
 "cells": [
  {
   "cell_type": "code",
   "execution_count": 8,
   "metadata": {},
   "outputs": [],
   "source": [
    "from openai import OpenAI\n",
    "import json"
   ]
  },
  {
   "cell_type": "code",
   "execution_count": 10,
   "metadata": {},
   "outputs": [],
   "source": [
    "client = OpenAI(\n",
    "    # #将这里换成你在aihubmix api keys拿到的密钥\n",
    "    api_key=\"LA-dbd61865236547dea7f11d76668f54d25f9c51c40e8d41109a67dbe692110a13\",\n",
    "    # 这里将官方的接口访问地址，替换成aihubmix的入口地址\n",
    "    base_url=\"https://api.llama-api.com\"\n",
    ")"
   ]
  },
  {
   "cell_type": "code",
   "execution_count": 12,
   "metadata": {},
   "outputs": [
    {
     "name": "stdout",
     "output_type": "stream",
     "text": [
      "{\n",
      "  \"id\": null,\n",
      "  \"choices\": [\n",
      "    {\n",
      "      \"finish_reason\": \"stop\",\n",
      "      \"index\": 0,\n",
      "      \"logprobs\": null,\n",
      "      \"message\": {\n",
      "        \"content\": \"{\\\"name\\\": \\\"information_extraction\\\", \\\"parameters\\\": {\\\"sentiment\\\": \\\"positive\\\", \\\"language\\\": \\\"English\\\", \\\"aggressiveness\\\": \\\"0\\\"}}\",\n",
      "        \"refusal\": null,\n",
      "        \"role\": \"assistant\",\n",
      "        \"audio\": null,\n",
      "        \"function_call\": null,\n",
      "        \"tool_calls\": null\n",
      "      }\n",
      "    }\n",
      "  ],\n",
      "  \"created\": 1737095040,\n",
      "  \"model\": \"llama3.1-70b\",\n",
      "  \"object\": null,\n",
      "  \"service_tier\": null,\n",
      "  \"system_fingerprint\": null,\n",
      "  \"usage\": {\n",
      "    \"completion_tokens\": 55,\n",
      "    \"prompt_tokens\": 325,\n",
      "    \"total_tokens\": 380,\n",
      "    \"completion_tokens_details\": null,\n",
      "    \"prompt_tokens_details\": null\n",
      "  }\n",
      "}\n"
     ]
    }
   ],
   "source": [
    "response = client.chat.completions.create(\n",
    "    model=\"llama3.1-70b\",\n",
    "    messages=[\n",
    "        {\"role\": \"system\", \"content\": \"Assistant is a large language model trained by OpenAI.\"},\n",
    "        {\"role\": \"user\", \"content\": \"I love you.\"}\n",
    "    ],\n",
    "    \n",
    ")\n",
    "\n",
    "#print(response)\n",
    "print(response.model_dump_json(indent=2))\n",
    "# print(response.choices[0].message.function_call)\n"
   ]
  },
  {
   "cell_type": "code",
   "execution_count": 6,
   "metadata": {},
   "outputs": [],
   "source": [
    "# Execute the Request\n",
    "response = llama.run(api_request_json)\n",
    "# Save the answer\n",
    "output = response.json()['choices'][0]['message']"
   ]
  },
  {
   "cell_type": "code",
   "execution_count": 7,
   "metadata": {},
   "outputs": [
    {
     "data": {
      "text/plain": [
       "{'content': \"I'm not able to access real-time flight information or provide specific flight schedules. However, I can suggest some options for you to find the next available flight from Amsterdam to New York:\\n\\n1. Check with airlines: You can visit the websites of airlines that operate flights from Amsterdam to New York, such as KLM, Delta, or American Airlines, to check their flight schedules and book a ticket.\\n2. Use a flight search engine: Websites like Google Flights, Skyscanner, or Kayak allow you to search for flights from Amsterdam to New York and compare prices and schedules across multiple airlines.\\n3. Contact a travel agency: If you prefer to book through a travel agency, you can contact them to inquire about available flights and book a ticket.\\n4. Check airport websites: You can also check the websites of Amsterdam Airport Schiphol (AMS) or one of New York's airports (JFK, LGA, or EWR) for flight information and schedules.\\n\\nPlease note that flight schedules and availability can change frequently, so it's always a good idea to verify the information before booking a ticket.\",\n",
       " 'refusal': None,\n",
       " 'role': 'assistant',\n",
       " 'audio': None,\n",
       " 'function_call': None,\n",
       " 'tool_calls': None}"
      ]
     },
     "execution_count": 7,
     "metadata": {},
     "output_type": "execute_result"
    }
   ],
   "source": [
    "output"
   ]
  }
 ],
 "metadata": {
  "kernelspec": {
   "display_name": "flask",
   "language": "python",
   "name": "python3"
  },
  "language_info": {
   "codemirror_mode": {
    "name": "ipython",
    "version": 3
   },
   "file_extension": ".py",
   "mimetype": "text/x-python",
   "name": "python",
   "nbconvert_exporter": "python",
   "pygments_lexer": "ipython3",
   "version": "3.11.11"
  }
 },
 "nbformat": 4,
 "nbformat_minor": 2
}
