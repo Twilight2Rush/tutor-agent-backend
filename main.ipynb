{
 "cells": [
  {
   "cell_type": "code",
   "execution_count": 57,
   "metadata": {},
   "outputs": [],
   "source": [
    "from openai import OpenAI\n",
    "import json\n",
    "from threading import Lock\n",
    "from datetime import datetime"
   ]
  },
  {
   "cell_type": "code",
   "execution_count": 56,
   "metadata": {},
   "outputs": [],
   "source": [
    "lock = Lock()"
   ]
  },
  {
   "cell_type": "code",
   "execution_count": 41,
   "metadata": {},
   "outputs": [],
   "source": [
    "client = OpenAI(\n",
    "    # #将这里换成你在aihubmix api keys拿到的密钥\n",
    "    api_key=\"sk-4CFE7AOiCwVbiRXw65A86b969f204a98B4Dd5bB0D97c9b70\",\n",
    "    # 这里将官方的接口访问地址，替换成aihubmix的入口地址\n",
    "    base_url=\"https://aihubmix.com/v1\"\n",
    ")\n",
    "\n",
    "# client = OpenAI(\n",
    "#     # #将这里换成你在aihubmix api keys拿到的密钥\n",
    "#     api_key=\"LA-dbd61865236547dea7f11d76668f54d25f9c51c40e8d41109a67dbe692110a13\",\n",
    "#     # 这里将官方的接口访问地址，替换成aihubmix的入口地址\n",
    "#     base_url=\"https://api.llama-api.com\"\n",
    "# )"
   ]
  },
  {
   "cell_type": "code",
   "execution_count": 42,
   "metadata": {},
   "outputs": [],
   "source": [
    "def message_construct(roomId): \n",
    "  JSON_FILE = f'data/room/{roomId}.json'\n",
    "  with open(JSON_FILE, \"r\") as file:\n",
    "    data = json.load(file)\n",
    "    topic = data[\"topic\"]\n",
    "    member = []\n",
    "    for item in data['roomMember']:\n",
    "      member.append(item['memberName'])\n",
    "    prompt = f'''You are an experienced instructor specialized in facilitating collaborative learning and developing students shared metacognition using the community of inquiry framework. I will provide you with a conversation history and an explanation about the history at this moment. The conversation history includes relevant decisions and explanations about previous stages. You need to identify which stage the current conversation is in by analyzing all these materials.\n",
    "              The topic is {topic}.\n",
    "              The group members are {' '.join(f'{item},' for item in member)}.\n",
    "              Below are the five stages in the community of inquiry framework:\n",
    "              Stage 1. Problem Defining Stage\n",
    "              Stage Content: Students identify the topic of discussion, clarify the task objectives, and the core of the problem.\n",
    "              Purpose: Ensure all participants are on the same page and stimulate interest and enthusiasm for the discussion.\n",
    "              Stage 2. Exploration\n",
    "              Stage Content: Students explore multiple viewpoints and solutions through discussion, research, and sharing of information.\n",
    "              Purpose: To broaden thinking, stimulate creativity, and allow students to freely propose and explore different ideas.\n",
    "              Stage 3. Integration\n",
    "              Stage Content: Students organize, compare, and analyze the information obtained in the exploration phase to form a systematic understanding.\n",
    "              Purpose: Improve students critical thinking skills and help them form a comprehensive perspective on the problem.\n",
    "              Stage 4. Resolution\n",
    "              Stage Content: Students apply the integrated knowledge, propose specific solutions or action plans, and start to implement them.\n",
    "              Purpose: To realize the application of knowledge and encourage students to solve real problems in practice.\n",
    "              Stage 5. Feedback\n",
    "              Stage Content: Students summarize and reflect on the whole process, evaluate learning outcomes, and assess the effectiveness of the discussion.\n",
    "              Purpose: Promote self-reflection and collective reflection, help students recognize the strengths and weaknesses of the learning process, and provide a basis for improvement in future discussions.\n",
    "              Task:\n",
    "                  Identify which stage the conversation is in at this moment and explain your decision by analyzing the conversation content and matching it with the given five stages.\n",
    "                  Based on the identified stage and explanation, determine whether to intervene in this discussion. \n",
    "                  If need to intervene, give your instruction to guide the discussion and help them find a practical solution, meanwhile you also need to increase the low engagement student learning interest in this dialogue perfromance.\n",
    "            '''\n",
    "    history = data[\"history\"]\n",
    "    messages=[\n",
    "      {\"role\": \"system\", \"content\": prompt}\n",
    "    ]\n",
    "    for item in history:\n",
    "      if item[\"userId\"]==\"u001\":\n",
    "        msg_item = {\"role\":\"assistant\",\"content\":item[\"text\"]}\n",
    "      else:\n",
    "        msg_item = {\"role\":\"user\",\"name\":item[\"userName\"],\"content\":item[\"text\"]}\n",
    "      messages.append(msg_item)  \n",
    "  return messages"
   ]
  },
  {
   "cell_type": "code",
   "execution_count": 43,
   "metadata": {},
   "outputs": [],
   "source": [
    "roomId = 'cCwZpS'\n"
   ]
  },
  {
   "cell_type": "code",
   "execution_count": 44,
   "metadata": {},
   "outputs": [],
   "source": [
    "new_messages = message_construct(roomId)"
   ]
  },
  {
   "cell_type": "code",
   "execution_count": 45,
   "metadata": {},
   "outputs": [
    {
     "data": {
      "text/plain": [
       "[{'role': 'system',\n",
       "  'content': \"You are an experienced instructor specialized in facilitating collaborative learning and developing students shared metacognition using the community of inquiry framework. I will provide you with a conversation history and an explanation about the history at this moment. The conversation history includes relevant decisions and explanations about previous stages. You need to identify which stage the current conversation is in by analyzing all these materials.\\n              The topic is How do you view college students' use of generative AI? Please choose a perspective to discuss..\\n              The group members are Jim, Alice, Bob, Jack, David,.\\n              Below are the five stages in the community of inquiry framework:\\n              Stage 1. Problem Defining Stage\\n              Stage Content: Students identify the topic of discussion, clarify the task objectives, and the core of the problem.\\n              Purpose: Ensure all participants are on the same page and stimulate interest and enthusiasm for the discussion.\\n              Stage 2. Exploration\\n              Stage Content: Students explore multiple viewpoints and solutions through discussion, research, and sharing of information.\\n              Purpose: To broaden thinking, stimulate creativity, and allow students to freely propose and explore different ideas.\\n              Stage 3. Integration\\n              Stage Content: Students organize, compare, and analyze the information obtained in the exploration phase to form a systematic understanding.\\n              Purpose: Improve students critical thinking skills and help them form a comprehensive perspective on the problem.\\n              Stage 4. Resolution\\n              Stage Content: Students apply the integrated knowledge, propose specific solutions or action plans, and start to implement them.\\n              Purpose: To realize the application of knowledge and encourage students to solve real problems in practice.\\n              Stage 5. Feedback\\n              Stage Content: Students summarize and reflect on the whole process, evaluate learning outcomes, and assess the effectiveness of the discussion.\\n              Purpose: Promote self-reflection and collective reflection, help students recognize the strengths and weaknesses of the learning process, and provide a basis for improvement in future discussions.\\n              Task:\\n                  Identify which stage the conversation is in at this moment and explain your decision by analyzing the conversation content and matching it with the given five stages.\\n                  Based on the identified stage and explanation, determine whether to intervene in this discussion. \\n                  If need to intervene, give your instruction to guide the discussion and help them find a practical solution, meanwhile you also need to increase the low engagement student learning interest in this dialogue perfromance.\\n            \"},\n",
       " {'role': 'user',\n",
       "  'name': 'Agent',\n",
       "  'content': \"Welcome everyone to today’s discussion. The topic we are discussing is 'How do you view college students' use of generative AI? Please choose a perspective to discuss.' Feel free to share your thoughts!\"},\n",
       " {'role': 'user',\n",
       "  'name': 'Jim',\n",
       "  'content': 'Many of my classmates use generative AI, like ChatGPT. It does a great job answering our questions. So, I think we can discuss it from the perspective of whether generative AI is reliable.'},\n",
       " {'role': 'user',\n",
       "  'name': 'Alice',\n",
       "  'content': 'However, I think this perspective has issues because the teacher mentioned that the target users are college students, but your view only discusses generative AI. I think we might need a more relevant perspective.'},\n",
       " {'role': 'user',\n",
       "  'name': 'Jim',\n",
       "  'content': 'Oh, you make a good point. So what should we discuss?'},\n",
       " {'role': 'user',\n",
       "  'name': 'Bob',\n",
       "  'content': 'Perhaps we can think of a perspective that combines the use of generative AI with college students. But I don’t have any ideas at the moment.'},\n",
       " {'role': 'user', 'name': 'Jim', 'content': 'Hello'},\n",
       " {'role': 'user', 'name': 'Bob', 'content': 'Hello'}]"
      ]
     },
     "execution_count": 45,
     "metadata": {},
     "output_type": "execute_result"
    }
   ],
   "source": [
    "new_messages"
   ]
  },
  {
   "cell_type": "code",
   "execution_count": 46,
   "metadata": {},
   "outputs": [],
   "source": [
    "tools = [\n",
    "    {\n",
    "        \"type\": \"function\",\n",
    "        \"function\":\n",
    "            {\n",
    "                \"name\": \"generate_response_fields\",\n",
    "                \"description\": \"Automatically decide whether to intervene and generate response details.\",\n",
    "                \"parameters\": {\n",
    "                    \"type\": \"object\",\n",
    "                    \"properties\": {\n",
    "                        \"intervene_required\": {\n",
    "                            \"type\": \"boolean\",\n",
    "                            \"description\": \"Indicates whether an intervene is required.\",\n",
    "                        },\n",
    "                        \"identified_stage\": {\n",
    "                            \"type\": \"string\",\n",
    "                            \"description\": \"The stage of the discussion\",\n",
    "                        },\n",
    "                        \"stage_explanation\": {\n",
    "                            \"type\": \"string\",\n",
    "                            \"description\": \"The reason Why this stage\",\n",
    "                        },\n",
    "                        \"response_content\": {\n",
    "                            \"type\": \"string\",\n",
    "                            \"description\": \"The content of the response if a intervene is required.\",\n",
    "                        },\n",
    "                        \"response_target\": {\n",
    "                            \"type\": \"string\",\n",
    "                            \"description\": \"The target of the response, i.e., member names\",\n",
    "                        },\n",
    "                    },\n",
    "                    \"required\": [\"respond_required\"],\n",
    "                },\n",
    "            }\n",
    "    }\n",
    "]"
   ]
  },
  {
   "cell_type": "code",
   "execution_count": 47,
   "metadata": {},
   "outputs": [],
   "source": [
    "# response = client.chat.completions.create(\n",
    "#   model=\"llama3.1-70b\",\n",
    "#   messages=new_messages,\n",
    "#   tools=tools\n",
    "# )\n",
    "response = client.chat.completions.create(\n",
    "  model=\"gpt-4o\",\n",
    "  messages=new_messages,\n",
    "  tools=tools\n",
    ")"
   ]
  },
  {
   "cell_type": "code",
   "execution_count": 48,
   "metadata": {},
   "outputs": [
    {
     "data": {
      "text/plain": [
       "ChatCompletion(id='chatcmpl-AqbpLl8QJXDjKrBi34s52AFesZN9Z', choices=[Choice(finish_reason='tool_calls', index=0, logprobs=None, message=ChatCompletionMessage(content=None, refusal=None, role='assistant', audio=None, function_call=None, tool_calls=[ChatCompletionMessageToolCall(id='call_yMvARoPBTBcDF8XcqsqP7G4N', function=Function(arguments='{\"identified_stage\":\"Stage 1. Problem Defining Stage\",\"intervene_required\":true,\"response_content\":\"It seems like we\\'re in the initial stage of the discussion, focusing on clarifying the perspective from which we\\'ll address the topic. Jim and Alice have started exploring perspectives but haven\\'t settled on one that aligns well with the topic. Let\\'s try to combine your ideas to find a more focused perspective. \\\\n\\\\nFor example, \\\\\"How reliable is the use of generative AI by college students in their academic work?\\\\\" or \\\\\"How does generative AI impact college students\\' learning experience?\\\\\" These perspectives might allow us to better meet the topic\\'s objective. \\\\n\\\\nRemember, the aim is to ensure our discussions align closely with the topic and each contribution helps us advance towards an understanding or a solution. \\\\n\\\\nCould Jim or Alice suggest a revised perspective that combines both elements?\",\"response_target\":\"Jim, Alice, Bob\",\"stage_explanation\":\"The conversation reflects the initial stage of defining the topic and clarifying the objectives. The participants are expressing uncertainties and trying to establish a perspective that aligns with the question.\\\\\"\"}', name='generate_response_fields'), type='function')]), content_filter_results={})], created=1737101827, model='gpt-4o-2024-08-06', object='chat.completion', service_tier=None, system_fingerprint='fp_f3927aa00d', usage=CompletionUsage(completion_tokens=236, prompt_tokens=799, total_tokens=1035, completion_tokens_details=CompletionTokensDetails(accepted_prediction_tokens=0, audio_tokens=0, reasoning_tokens=0, rejected_prediction_tokens=0), prompt_tokens_details=PromptTokensDetails(audio_tokens=0, cached_tokens=0)), prompt_filter_results=[{'prompt_index': 0, 'content_filter_results': {'hate': {'filtered': False, 'severity': 'safe'}, 'self_harm': {'filtered': False, 'severity': 'safe'}, 'sexual': {'filtered': False, 'severity': 'safe'}, 'violence': {'filtered': False, 'severity': 'safe'}}}])"
      ]
     },
     "execution_count": 48,
     "metadata": {},
     "output_type": "execute_result"
    }
   ],
   "source": [
    "response"
   ]
  },
  {
   "cell_type": "code",
   "execution_count": 49,
   "metadata": {},
   "outputs": [],
   "source": [
    "results = response.choices[0].message.tool_calls"
   ]
  },
  {
   "cell_type": "code",
   "execution_count": 53,
   "metadata": {},
   "outputs": [
    {
     "data": {
      "text/plain": [
       "{'identified_stage': 'Stage 1. Problem Defining Stage',\n",
       " 'intervene_required': True,\n",
       " 'response_content': 'It seems like we\\'re in the initial stage of the discussion, focusing on clarifying the perspective from which we\\'ll address the topic. Jim and Alice have started exploring perspectives but haven\\'t settled on one that aligns well with the topic. Let\\'s try to combine your ideas to find a more focused perspective. \\n\\nFor example, \"How reliable is the use of generative AI by college students in their academic work?\" or \"How does generative AI impact college students\\' learning experience?\" These perspectives might allow us to better meet the topic\\'s objective. \\n\\nRemember, the aim is to ensure our discussions align closely with the topic and each contribution helps us advance towards an understanding or a solution. \\n\\nCould Jim or Alice suggest a revised perspective that combines both elements?',\n",
       " 'response_target': 'Jim, Alice, Bob',\n",
       " 'stage_explanation': 'The conversation reflects the initial stage of defining the topic and clarifying the objectives. The participants are expressing uncertainties and trying to establish a perspective that aligns with the question.\"'}"
      ]
     },
     "execution_count": 53,
     "metadata": {},
     "output_type": "execute_result"
    }
   ],
   "source": [
    "json.loads(results[0].function.arguments)"
   ]
  },
  {
   "cell_type": "code",
   "execution_count": 60,
   "metadata": {},
   "outputs": [],
   "source": [
    "def save_response(roomId,results):\n",
    "  with lock:\n",
    "    JSON_FILE = f'data/room/{roomId}.json'\n",
    "    with open(JSON_FILE, \"r\") as file:\n",
    "      old_data = json.load(file)\n",
    "      for i in results:\n",
    "        item = json.loads(i.function.arguments)\n",
    "        msg = {\n",
    "          \"userId\": \"u000\",\n",
    "          \"userName\": \"Agent\",\n",
    "          \"userAvatar\": \"/src/assets/Agent.PNG\",\n",
    "          \"text\": item[\"response_content\"],\n",
    "          \"time\": datetime.now().strftime(\"%I:%M:%S %p\"),\n",
    "          \"roomId\": roomId\n",
    "        }\n",
    "        old_data[\"history\"].append(msg)\n",
    "      # 4. 将更新后的数据写回文件\n",
    "      with open(JSON_FILE, 'w') as f:\n",
    "        json.dump(old_data, f, ensure_ascii=False, indent=2)\n",
    "    "
   ]
  },
  {
   "cell_type": "code",
   "execution_count": 61,
   "metadata": {},
   "outputs": [],
   "source": [
    "save_response(roomId,results)"
   ]
  },
  {
   "cell_type": "code",
   "execution_count": 38,
   "metadata": {},
   "outputs": [],
   "source": [
    "# print(response.model_dump_json(indent=2))\n",
    "result = json.loads(response.choices[0].message.tool_calls[0].function.arguments)"
   ]
  },
  {
   "cell_type": "code",
   "execution_count": 39,
   "metadata": {},
   "outputs": [
    {
     "data": {
      "text/plain": [
       "{'respond_required': True,\n",
       " 'response_content': \"Since several of you have mentioned integrating the use of generative AI with the context of college students, let's consider discussing how generative AI can support college students in their academic and personal development. This can include aspects like enhancing learning experiences, assisting in daily tasks, or even managing stress. This perspective ties in both the technology and its user base effectively.\",\n",
       " 'response_target': 'all'}"
      ]
     },
     "execution_count": 39,
     "metadata": {},
     "output_type": "execute_result"
    }
   ],
   "source": [
    "result"
   ]
  },
  {
   "cell_type": "code",
   "execution_count": null,
   "metadata": {},
   "outputs": [],
   "source": []
  },
  {
   "cell_type": "code",
   "execution_count": 24,
   "metadata": {},
   "outputs": [
    {
     "data": {
      "text/plain": [
       "{'respond_required': True,\n",
       " 'response_content': \"Jim and Bob, you both seem to have great ideas. Jim, you’re pointing out an important area about reliability, and Bob, you're thinking about relevance. Let's try merging these insights into a comprehensive perspective: the impact of AI reliability on student learning routines and outcomes.\",\n",
       " 'response_target': 'Jim and Bob'}"
      ]
     },
     "execution_count": 24,
     "metadata": {},
     "output_type": "execute_result"
    }
   ],
   "source": [
    "result"
   ]
  }
 ],
 "metadata": {
  "kernelspec": {
   "display_name": "flask",
   "language": "python",
   "name": "python3"
  },
  "language_info": {
   "codemirror_mode": {
    "name": "ipython",
    "version": 3
   },
   "file_extension": ".py",
   "mimetype": "text/x-python",
   "name": "python",
   "nbconvert_exporter": "python",
   "pygments_lexer": "ipython3",
   "version": "3.11.11"
  }
 },
 "nbformat": 4,
 "nbformat_minor": 2
}
