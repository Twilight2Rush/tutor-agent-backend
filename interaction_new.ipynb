{
 "cells": [
  {
   "cell_type": "code",
   "execution_count": 4,
   "id": "d7cd92bd",
   "metadata": {},
   "outputs": [],
   "source": [
    "import os\n",
    "import json\n",
    "import pandas as pd\n",
    "import random\n",
    "from termcolor import colored\n",
    "from tqdm import tqdm\n",
    "import re\n",
    "import ast\n",
    "import docx\n",
    "from datetime import datetime\n",
    "from openai import OpenAI\n",
    "from database import connect_database"
   ]
  },
  {
   "cell_type": "code",
   "execution_count": 5,
   "id": "c61a059d",
   "metadata": {},
   "outputs": [],
   "source": [
    "user_collection, room_collection = connect_database()"
   ]
  },
  {
   "cell_type": "code",
   "execution_count": null,
   "id": "2d0c6dca",
   "metadata": {},
   "outputs": [],
   "source": []
  },
  {
   "cell_type": "code",
   "execution_count": null,
   "id": "a08fe8c6",
   "metadata": {},
   "outputs": [],
   "source": [
    "# create room\n"
   ]
  },
  {
   "cell_type": "code",
   "execution_count": null,
   "id": "70174b7c",
   "metadata": {},
   "outputs": [],
   "source": []
  }
 ],
 "metadata": {
  "kernelspec": {
   "display_name": "flask",
   "language": "python",
   "name": "python3"
  },
  "language_info": {
   "codemirror_mode": {
    "name": "ipython",
    "version": 3
   },
   "file_extension": ".py",
   "mimetype": "text/x-python",
   "name": "python",
   "nbconvert_exporter": "python",
   "pygments_lexer": "ipython3",
   "version": "3.11.11"
  }
 },
 "nbformat": 4,
 "nbformat_minor": 5
}
